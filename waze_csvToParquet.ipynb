{
  "metadata": {
    "name": "waze_csvToParquet",
    "kernelspec": {
      "language": "scala",
      "name": "spark2-scala"
    },
    "language_info": {
      "codemirror_mode": "text/x-scala",
      "file_extension": ".scala",
      "mimetype": "text/x-scala",
      "name": "scala",
      "pygments_lexer": "scala"
    },
    "colab": {
      "provenance": [],
      "include_colab_link": true
    }
  },
  "nbformat": 4,
  "nbformat_minor": 0,
  "cells": [
    {
      "cell_type": "markdown",
      "metadata": {
        "id": "view-in-github",
        "colab_type": "text"
      },
      "source": [
        "<a href=\"https://colab.research.google.com/github/dalgual/dalgual.github.io/blob/main/waze_csvToParquet.ipynb\" target=\"_parent\"><img src=\"https://colab.research.google.com/assets/colab-badge.svg\" alt=\"Open In Colab\"/></a>"
      ]
    },
    {
      "cell_type": "markdown",
      "metadata": {
        "id": "y3jvkDK8yrwV"
      },
      "source": [
        "## Create parquet file from csv\n",
        "**Reference**\n",
        "1. https://stackoverflow.com/questions/50604133/convert-csv-to-parquet-file-using-python\n"
      ]
    },
    {
      "cell_type": "raw",
      "metadata": {
        "format": "text/plain",
        "id": "2klY2noRyrwW"
      },
      "source": [
        "%pyspark\n",
        "from pyspark.sql import SparkSession\n",
        "import os\n",
        "\n",
        "\n"
      ]
    },
    {
      "cell_type": "raw",
      "metadata": {
        "format": "text/plain",
        "id": "YwQ52HnMyrwX"
      },
      "source": [
        "%pyspark\n",
        "# read csv\n",
        "file = spark.read.csv('/user/jwoo5/waze/gb1.6/jamsPredictCleanFullHead.csv', inferSchema=True, header=True)\n",
        "\n"
      ]
    },
    {
      "cell_type": "raw",
      "metadata": {
        "format": "text/plain",
        "id": "PkOlzj_eyrwX"
      },
      "source": [
        "%pyspark\n",
        "# file.show(5)"
      ]
    },
    {
      "cell_type": "raw",
      "metadata": {
        "format": "text/plain",
        "id": "u1cjCKXDyrwX"
      },
      "source": [
        "%pyspark\n",
        "# Displays the content of the DataFrame to stdout\n",
        "\n",
        "parquetfilename = os.path.join('/user/jwoo5/waze/','gb1.6.parquet')    \n",
        "file.write.mode('overwrite').parquet(parquetfilename)\n"
      ]
    },
    {
      "cell_type": "raw",
      "metadata": {
        "format": "text/plain",
        "id": "8t50NdtjyrwY"
      },
      "source": [
        "%pyspark\n"
      ]
    }
  ]
}